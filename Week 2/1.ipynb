{
 "cells": [
  {
   "cell_type": "markdown",
   "metadata": {},
   "source": [
    "**Read two lists from the user. Two lists contain the names of\n",
    "students??**\n",
    "\n",
    "\n",
    "➢ Get the Names which are there in both lists??\n",
    "\n",
    "➢ Get the Names which are there in atleast one list??\n",
    "\n",
    "➢ Get the Names which are there in List1 not there in\n",
    " List2??\n",
    " \n",
    "➢ Get the names which are there in List2 not there in\n",
    " List1??"
   ]
  },
  {
   "cell_type": "code",
   "execution_count": 1,
   "metadata": {},
   "outputs": [
    {
     "name": "stdout",
     "output_type": "stream",
     "text": [
      "{'student1', 'student4'}\n",
      "{'student3', 'student2', 'student1', 'student6', 'student5', 'student10', 'student9', 'student4'}\n",
      "{'student2', 'student9', 'student6'}\n",
      "{'student10', 'student3', 'student5'}\n"
     ]
    }
   ],
   "source": [
    "list1=['student1','student2','student4','student6','student9']\n",
    "list2=['student1','student3','student5','student4','student10']\n",
    "print(set(list1) & set(list2))\n",
    "print(set(list1) | set(list2))\n",
    "print(set(list1) - set(list2))\n",
    "print(set(list2) - set(list1))"
   ]
  },
  {
   "cell_type": "code",
   "execution_count": null,
   "metadata": {},
   "outputs": [],
   "source": []
  }
 ],
 "metadata": {
  "kernelspec": {
   "display_name": "Python 3",
   "language": "python",
   "name": "python3"
  },
  "language_info": {
   "codemirror_mode": {
    "name": "ipython",
    "version": 3
   },
   "file_extension": ".py",
   "mimetype": "text/x-python",
   "name": "python",
   "nbconvert_exporter": "python",
   "pygments_lexer": "ipython3",
   "version": "3.7.3"
  }
 },
 "nbformat": 4,
 "nbformat_minor": 2
}
