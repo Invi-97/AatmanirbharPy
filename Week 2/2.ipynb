{
 "cells": [
  {
   "cell_type": "markdown",
   "metadata": {},
   "source": [
    "**Take a list of Numbers or Names with repetitive values??**\n",
    "\n",
    "➢ Get a list as output??\n",
    "\n",
    "➢ Each sublist has the number and how many times it is\n",
    "there in the list??\n",
    "\n",
    "➢ The output should be in sorted order based on count??\n",
    "\n",
    "➢ If the count is equal different numbers .sort them based\n",
    "on numbers??\n",
    "\n",
    "Example: [23, 45, 23, 77, 67, 45, 45, 2, 3, 3, 2, 3]\n",
    "\n",
    "Output : [ [3,3], [45,3], [2,2], [23,2], [67,1], [77,1] ]"
   ]
  },
  {
   "cell_type": "code",
   "execution_count": 4,
   "metadata": {},
   "outputs": [
    {
     "name": "stdout",
     "output_type": "stream",
     "text": [
      "[[3, 3], [45, 3], [2, 2], [23, 2], [67, 1], [77, 1]]\n"
     ]
    }
   ],
   "source": [
    "inp=[23, 45, 23, 77, 67, 45, 45, 2, 3, 3, 2, 3]\n",
    "val_dict={}\n",
    "for i in inp:\n",
    "    val_dict[i]=val_dict.get(i,0)+1\n",
    "    ans=[]\n",
    "for key,value in val_dict.items():\n",
    "    lis=[]\n",
    "    lis.append(key)\n",
    "    lis.append(value)\n",
    "    ans.append(lis)\n",
    "    ans.sort(key = lambda x: x[1],reverse=True)\n",
    "\n",
    "\n",
    "for i in range(0,len(ans)-1):\n",
    "    if(ans[i][1]==ans[i+1][1] and ans[i][0]>ans[i+1][0]):\n",
    "        temp=ans[i]\n",
    "        ans[i]=ans[i+1]\n",
    "        ans[i+1]=temp\n",
    "\n",
    "print(ans)"
   ]
  },
  {
   "cell_type": "code",
   "execution_count": null,
   "metadata": {},
   "outputs": [],
   "source": []
  }
 ],
 "metadata": {
  "kernelspec": {
   "display_name": "Python 3",
   "language": "python",
   "name": "python3"
  },
  "language_info": {
   "codemirror_mode": {
    "name": "ipython",
    "version": 3
   },
   "file_extension": ".py",
   "mimetype": "text/x-python",
   "name": "python",
   "nbconvert_exporter": "python",
   "pygments_lexer": "ipython3",
   "version": "3.7.3"
  }
 },
 "nbformat": 4,
 "nbformat_minor": 2
}
