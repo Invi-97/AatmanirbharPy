{
 "cells": [
  {
   "cell_type": "markdown",
   "metadata": {},
   "source": [
    "**[PERMUTATIONS ]\n",
    "A permutation of a list is another list with the same\n",
    "elements, but in a possibly different order.**\n",
    "\n",
    " Example: [1, 2, 1] is a permutation of [2, 1, 1], but not of\n",
    " [1, 2, 2]. Write a function is permutation\n",
    " (list1, list2): bool that returns True if its\n",
    " Arguments are permutations of each other."
   ]
  },
  {
   "cell_type": "code",
   "execution_count": 2,
   "metadata": {},
   "outputs": [
    {
     "name": "stdout",
     "output_type": "stream",
     "text": [
      "Enter 1st List python\n",
      "Enter 2nd List onhtpy\n",
      "Yes\n"
     ]
    }
   ],
   "source": [
    "# Python 3 program to check whether two \n",
    "# strings are Permutations of each other \n",
    "\n",
    "# function to check whether two strings \n",
    "# are Permutation of each other */ \n",
    "def arePermutation(str1, str2): \n",
    "\t\n",
    "\t# Get lenghts of both strings \n",
    "\tn1 = len(str1) \n",
    "\tn2 = len(str2) \n",
    "\n",
    "\t# If length of both strings is not same, \n",
    "\t# then they cannot be Permutation \n",
    "\tif (n1 != n2): \n",
    "\t\treturn False\n",
    "\n",
    "\t# Sort both strings \n",
    "\ta = sorted(str1) \n",
    "\tstr1 = \" \".join(a) \n",
    "\tb = sorted(str2) \n",
    "\tstr2 = \" \".join(b) \n",
    "\n",
    "\t# Compare sorted strings \n",
    "\tfor i in range(0, n1, 1): \n",
    "\t\tif (str1[i] != str2[i]): \n",
    "\t\t\treturn False\n",
    "\n",
    "\treturn True\n",
    "\n",
    "\n",
    "if __name__ == '__main__': \n",
    "\tstr1 = input(\"Enter 1st List \")\n",
    "\tstr2 = input(\"Enter 2nd List \")\n",
    "\tif (arePermutation(str1, str2)): \n",
    "\t\tprint(\"Yes\") \n",
    "\telse: \n",
    "\t\tprint(\"No\") \n",
    "\n",
    "\n"
   ]
  },
  {
   "cell_type": "code",
   "execution_count": null,
   "metadata": {},
   "outputs": [],
   "source": []
  }
 ],
 "metadata": {
  "kernelspec": {
   "display_name": "Python 3",
   "language": "python",
   "name": "python3"
  },
  "language_info": {
   "codemirror_mode": {
    "name": "ipython",
    "version": 3
   },
   "file_extension": ".py",
   "mimetype": "text/x-python",
   "name": "python",
   "nbconvert_exporter": "python",
   "pygments_lexer": "ipython3",
   "version": "3.7.3"
  }
 },
 "nbformat": 4,
 "nbformat_minor": 2
}
