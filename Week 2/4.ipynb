{
 "cells": [
  {
   "cell_type": "markdown",
   "metadata": {},
   "source": [
    "**Write a python function that checks whether a passed string\n",
    "is palindrome or not??**\n"
   ]
  },
  {
   "cell_type": "code",
   "execution_count": 2,
   "metadata": {},
   "outputs": [
    {
     "name": "stdout",
     "output_type": "stream",
     "text": [
      "Enter the String: hanah\n",
      "Yes\n"
     ]
    }
   ],
   "source": [
    "def isPalindrome(s): \n",
    "\treturn s == s[::-1]    #I'm checking if reverse is same as the original string\n",
    "\n",
    "\n",
    "# Driver code \n",
    "s = input(\"Enter the String: \")\n",
    "ans = isPalindrome(s) \n",
    "\n",
    "if ans: \n",
    "\tprint(\"Yes\") \n",
    "else: \n",
    "\tprint(\"No\") \n"
   ]
  },
  {
   "cell_type": "code",
   "execution_count": null,
   "metadata": {},
   "outputs": [],
   "source": []
  }
 ],
 "metadata": {
  "kernelspec": {
   "display_name": "Python 3",
   "language": "python",
   "name": "python3"
  },
  "language_info": {
   "codemirror_mode": {
    "name": "ipython",
    "version": 3
   },
   "file_extension": ".py",
   "mimetype": "text/x-python",
   "name": "python",
   "nbconvert_exporter": "python",
   "pygments_lexer": "ipython3",
   "version": "3.7.3"
  }
 },
 "nbformat": 4,
 "nbformat_minor": 2
}
