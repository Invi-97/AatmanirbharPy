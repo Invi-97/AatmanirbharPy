{
 "cells": [
  {
   "cell_type": "markdown",
   "metadata": {},
   "source": [
    "**Write a python function to check whether the given number\n",
    "is Adam number or not??**\n",
    "\n",
    "EXAMPLE:\n",
    "\n",
    "Input: 12\n",
    "\n",
    "Output: Adam Number\n",
    "\n",
    "Explanation: 12*12=144\n",
    "\n",
    "Reverse of 12 is 21→ 21*21=441\n",
    "\n",
    "Reverse of 144==441\n"
   ]
  },
  {
   "cell_type": "code",
   "execution_count": null,
   "metadata": {},
   "outputs": [],
   "source": [
    "def reverseDigits(num) : \n",
    "\trev = 0\n",
    "\twhile (num > 0) : \n",
    "\t\trev = rev * 10 + num % 10\n",
    "\t\tnum /= 10\n",
    "\t\t\n",
    "\treturn rev \n",
    "\n",
    "# To square number \n",
    "def square(num) : \n",
    "\treturn (num * num) \n",
    "\t\n",
    "# To check Adam Number \n",
    "def checkAdamNumber(num) : \n",
    "\t\n",
    "\t# Square first number and square \n",
    "\t# reverse digits of second number \n",
    "\ta = square(num) \n",
    "\tb = square(reverseDigits(num)) \n",
    "\t\t\n",
    "\t# If reverse of b equals a then given \n",
    "\t# number is Adam number \n",
    "\tif (a == reverseDigits(b)) : \n",
    "\t\treturn True\n",
    "\telse : \n",
    "\t\treturn False\n",
    "\n",
    "\n",
    "num = int(input(\"Enter No. \"))\n",
    "if (checkAdamNumber(num)) : \n",
    "\tprint (\"Adam Number\")\n",
    "else : \n",
    "\tprint (\"Not a Adam Number\")\n",
    "\n",
    "\n"
   ]
  },
  {
   "cell_type": "code",
   "execution_count": null,
   "metadata": {},
   "outputs": [],
   "source": []
  }
 ],
 "metadata": {
  "kernelspec": {
   "display_name": "Python 3",
   "language": "python",
   "name": "python3"
  },
  "language_info": {
   "codemirror_mode": {
    "name": "ipython",
    "version": 3
   },
   "file_extension": ".py",
   "mimetype": "text/x-python",
   "name": "python",
   "nbconvert_exporter": "python",
   "pygments_lexer": "ipython3",
   "version": "3.7.3"
  }
 },
 "nbformat": 4,
 "nbformat_minor": 2
}
