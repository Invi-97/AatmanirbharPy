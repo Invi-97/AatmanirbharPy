{
 "cells": [
  {
   "cell_type": "code",
   "execution_count": 2,
   "metadata": {},
   "outputs": [
    {
     "name": "stdout",
     "output_type": "stream",
     "text": [
      "Enter no. of yrs 10\n",
      "Enter principal amount 50000\n",
      "Enter rate 3.9\n",
      "Compound interest is 73303.62973774967\n"
     ]
    }
   ],
   "source": [
    "#Python Program for compound interest\n",
    "\n",
    "def compound_interest(principle, rate, time): \n",
    "\n",
    "\t# Calculates compound interest \n",
    "\tCI = principle * (pow((1 + rate / 100), time)) \n",
    "\tprint(\"Compound interest is\", CI) \n",
    "\n",
    "n = float(input(\"Enter no. of yrs \"))\n",
    "p = float(input(\"Enter principal amount \"))\n",
    "r = float(input(\"Enter rate \"))\n",
    "\n",
    "compound_interest(p, r, n) \n",
    "\n",
    " \n"
   ]
  },
  {
   "cell_type": "code",
   "execution_count": null,
   "metadata": {},
   "outputs": [],
   "source": []
  }
 ],
 "metadata": {
  "kernelspec": {
   "display_name": "Python 3",
   "language": "python",
   "name": "python3"
  },
  "language_info": {
   "codemirror_mode": {
    "name": "ipython",
    "version": 3
   },
   "file_extension": ".py",
   "mimetype": "text/x-python",
   "name": "python",
   "nbconvert_exporter": "python",
   "pygments_lexer": "ipython3",
   "version": "3.7.3"
  }
 },
 "nbformat": 4,
 "nbformat_minor": 2
}
