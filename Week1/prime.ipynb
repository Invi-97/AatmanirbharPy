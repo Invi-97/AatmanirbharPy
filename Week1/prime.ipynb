{
 "cells": [
  {
   "cell_type": "code",
   "execution_count": 2,
   "metadata": {},
   "outputs": [
    {
     "name": "stdout",
     "output_type": "stream",
     "text": [
      "Enter the number: 46\n",
      "46 is not a prime number.\n",
      "Factors are:  2 23\n"
     ]
    }
   ],
   "source": [
    "#Python program to check whether a number is Prime or not\n",
    "#Additionally print all factors if not prime.\n",
    "\n",
    "num = int(input('Enter the number: '))\n",
    "factors = []\n",
    "if num == 1:\n",
    "    print('Not a prime number.')\n",
    "elif num == 2:\n",
    "    print('2 is a prime number')\n",
    "else:\n",
    "    for i in range(2, int(num/2)+1):\n",
    "        if not num % i: # if reminder is zeros then its a factor\n",
    "            factors.append(i)\n",
    "    # After for loop ends check if factors is empty then prime else not a prime. \n",
    "    if len(factors):\n",
    "        print(num, 'is not a prime number.')\n",
    "        print('Factors are: ',*factors)\n",
    "    else:\n",
    "        print(num, 'is a prime number.')"
   ]
  },
  {
   "cell_type": "code",
   "execution_count": null,
   "metadata": {},
   "outputs": [],
   "source": []
  }
 ],
 "metadata": {
  "kernelspec": {
   "display_name": "Python 3",
   "language": "python",
   "name": "python3"
  },
  "language_info": {
   "codemirror_mode": {
    "name": "ipython",
    "version": 3
   },
   "file_extension": ".py",
   "mimetype": "text/x-python",
   "name": "python",
   "nbconvert_exporter": "python",
   "pygments_lexer": "ipython3",
   "version": "3.7.3"
  }
 },
 "nbformat": 4,
 "nbformat_minor": 2
}
